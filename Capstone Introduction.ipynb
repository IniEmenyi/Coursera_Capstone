{
    "cells": [
        {
            "metadata": {
                "collapsed": true
            },
            "cell_type": "markdown",
            "source": "CASE STUDY: CAR ACCIDENT SEVERITY\n\nIBM APPLIED DATA SCIENCE SPECIALIZATION CAPSTONE <br>\nPrepared By Abang Emenyi\n"
        },
        {
            "metadata": {},
            "cell_type": "code",
            "source": "",
            "execution_count": null,
            "outputs": []
        },
        {
            "metadata": {},
            "cell_type": "markdown",
            "source": "1. Introduction\n\n1.1. The Business Case\nOf the major modes of transportation, namely: Air, Rail, Sea, and Road; it is well known that road transportation presents the highest risk to travel. Road travel accidents occur more frequently than accidents by air, rail, or sea travel. Several factors contribute to road accidents. Some are caused by road users, for example, over speeding, and drunk driving, while others are caused by the elements, such as weather, and road conditions. While a factor like the behavior of a road user is quite unpredictable, other factors like the weather, and the state of the roads, are quite predictable. If these predictable factors are studied, and information gathered from them is disseminated to road users, the outcome may be a reduction in the frequency of road accidents. \n\nThe objective of this project, is to develop an early warning system, that could advise road users on the possibility of getting involved in a car accident, and how severe that accident might be, all based on the factors such as weather and road conditions at the time.\n\n1.2. Stakeholders\nThe major beneficiaries of this would be road users, who would be able to decide to drive more safely, or even completely change their travel plans based on the information provided. Other beneficiaries are first responders, as the resources they would deploy to attend to car accidents, would reduce if the early warning system indeed leads to a reduction in frequency of accidents.\n\nwhile others are natural Within road travel itself, interstate highways are more prone to accidents than intra state roads and streets. a sizeable number of accidents that occur, do so on highways (routes that facilitate interstate travel). There are a variety of factors that can cause road accidents   \n"
        },
        {
            "metadata": {},
            "cell_type": "code",
            "source": "",
            "execution_count": null,
            "outputs": []
        }
    ],
    "metadata": {
        "kernelspec": {
            "name": "python3",
            "display_name": "Python 3.6",
            "language": "python"
        },
        "language_info": {
            "name": "python",
            "version": "3.6.9",
            "mimetype": "text/x-python",
            "codemirror_mode": {
                "name": "ipython",
                "version": 3
            },
            "pygments_lexer": "ipython3",
            "nbconvert_exporter": "python",
            "file_extension": ".py"
        }
    },
    "nbformat": 4,
    "nbformat_minor": 1
}