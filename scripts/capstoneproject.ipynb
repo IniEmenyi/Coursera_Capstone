This notebook is mainly for my capston project
import pandas as pd
import numpy as np
print "Hello Capstone Project Course!"
